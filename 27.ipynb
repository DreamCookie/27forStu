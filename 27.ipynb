{
  "nbformat": 4,
  "nbformat_minor": 0,
  "metadata": {
    "colab": {
      "provenance": []
    },
    "kernelspec": {
      "name": "python3",
      "display_name": "Python 3"
    },
    "language_info": {
      "name": "python"
    }
  },
  "cells": [
    {
      "cell_type": "code",
      "execution_count": null,
      "metadata": {
        "id": "kgkaMpYOsd1z",
        "colab": {
          "base_uri": "https://localhost:8080/"
        },
        "outputId": "8935be30-f1a6-4f7a-80f4-d83fde9201dd"
      },
      "outputs": [
        {
          "output_type": "stream",
          "name": "stdout",
          "text": [
            "Минимальное значение: 695.8262631215026\n",
            "Максимальное значение: 1332.708848668239\n",
            "Размах: 636.8825855467363\n",
            "Среднее значение: 928.6534195377087\n"
          ]
        }
      ],
      "source": [
        "import pandas as pd\n",
        "\n",
        "file_path = 'sales_1.csv'\n",
        "data = pd.read_csv(file_path)\n",
        "\n",
        "price_column = data[\"Цена\"]\n",
        "\n",
        "min_price = price_column.min()\n",
        "max_price = price_column.max()\n",
        "\n",
        "range_price = max_price - min_price\n",
        "\n",
        "mean_price = price_column.mean()\n",
        "\n",
        "data[\"Второй момент\"] = (data[\"Цена\"] - mean_price) ** 2\n",
        "\n",
        "data[\"Третий момент\"] = (data[\"Цена\"] - mean_price) ** 3\n",
        "\n",
        "print(\"Минимальное значение:\", min_price)\n",
        "print(\"Максимальное значение:\", max_price)\n",
        "print(\"Размах:\", range_price)\n",
        "print(\"Среднее значение:\", mean_price)\n",
        "\n",
        "output_path = 'Updated.csv'\n",
        "data.to_csv(output_path, index=False)\n"
      ]
    },
    {
      "cell_type": "code",
      "source": [
        "import pandas as pd\n",
        "\n",
        "file_path = 'sales_1.csv'\n",
        "data = pd.read_csv(file_path)\n",
        "\n",
        "price_column = data[\"Количество\"]\n",
        "\n",
        "min_price = price_column.min()\n",
        "max_price = price_column.max()\n",
        "\n",
        "range_price = max_price - min_price\n",
        "\n",
        "mean_price = price_column.mean()\n",
        "\n",
        "data[\"Второй момент\"] = (data[\"Количество\"] - mean_price) ** 2\n",
        "\n",
        "data[\"Третий момент\"] = (data[\"Количество\"] - mean_price) ** 3\n",
        "\n",
        "print(\"Минимальное значение:\", min_price)\n",
        "print(\"Максимальное значение:\", max_price)\n",
        "print(\"Размах:\", range_price)\n",
        "print(\"Среднее значение:\", mean_price)\n",
        "\n",
        "output_path = 'Updated1.csv'\n",
        "data.to_csv(output_path, index=False)\n"
      ],
      "metadata": {
        "colab": {
          "base_uri": "https://localhost:8080/"
        },
        "id": "0-ZYezCmtmAL",
        "outputId": "feab6681-5563-4aee-ff3c-dd6348f5bf0f"
      },
      "execution_count": null,
      "outputs": [
        {
          "output_type": "stream",
          "name": "stdout",
          "text": [
            "Минимальное значение: 134\n",
            "Максимальное значение: 167\n",
            "Размах: 33\n",
            "Среднее значение: 153.265\n"
          ]
        }
      ]
    },
    {
      "cell_type": "code",
      "source": [
        "import math\n",
        "import numpy as np\n",
        "import pandas as pd\n",
        "\n",
        "file_path = 'sales_1.csv'\n",
        "data = pd.read_csv(file_path)\n",
        "\n",
        "count_column = data [\"Количество\"]\n",
        "\n",
        "#Размах и количество интервалов\n",
        "min_value = count_column.min()\n",
        "max_value = count_column.max()\n",
        "range_value = max_value - min_value\n",
        "\n",
        "#Количество интервалов по правилу Стерджеса (Стургерс?)\n",
        "n = len(count_column)\n",
        "k = math.ceil(1+3.22*math.log10(n))\n",
        "\n",
        "#Длина интервала\n",
        "h = math.ceil(range_value/k)\n",
        "\n",
        "#Создание интервалов\n",
        "\n",
        "bins = np.arange(min_value, max_value + h, h)\n",
        "\n",
        "#Подсчет частот вхождений\n",
        "\n",
        "data[\"Интервал\"] = pd.cut(count_column, bins, right=False)\n",
        "frequency_table = data[\"Интервал\"].value_counts().sort_index()\n",
        "\n",
        "# Таблица вжуууух\n",
        "frequency_df = frequency_table.reset_index()\n",
        "frequency_df.columns = [\"Интервал\", \"Частота\"]\n",
        "\n",
        "\n",
        "output_path = \"frequency_intervals.csv\"\n",
        "frequency_df.to_csv(output_path, index=False)\n",
        "\n",
        "print(\"Таблица частот по интервалам сохранена\")\n",
        "print(frequency_df)"
      ],
      "metadata": {
        "colab": {
          "base_uri": "https://localhost:8080/"
        },
        "id": "xg826BJfupVB",
        "outputId": "5bb42c35-3e65-4577-a346-6ecdfd3d9e2e"
      },
      "execution_count": null,
      "outputs": [
        {
          "output_type": "stream",
          "name": "stdout",
          "text": [
            "Таблица частот по интервалам сохранена\n",
            "     Интервал  Частота\n",
            "0  [134, 138)        3\n",
            "1  [138, 142)        4\n",
            "2  [142, 146)       10\n",
            "3  [146, 150)       42\n",
            "4  [150, 154)       40\n",
            "5  [154, 158)       54\n",
            "6  [158, 162)       29\n",
            "7  [162, 166)       16\n",
            "8  [166, 170)        2\n"
          ]
        }
      ]
    },
    {
      "cell_type": "code",
      "source": [
        "from IPython.display import HTML\n",
        "\n",
        "HTML ('<img src =\"https://steamuserimages-a.akamaihd.net/ugc/958603887331757558/D1E9FAB08630AFD6CB06EE7B719338B00BCEACBC/?imw=512&imh=219&ima=fit&impolicy=Letterbox&imcolor=%23000000&letterbox=true\" width = \"400\">')"
      ],
      "metadata": {
        "colab": {
          "base_uri": "https://localhost:8080/",
          "height": 193
        },
        "id": "hXSgpJZi1dX0",
        "outputId": "0a15a7ed-b836-4e3d-c0ec-4edc7dcfaf99"
      },
      "execution_count": null,
      "outputs": [
        {
          "output_type": "execute_result",
          "data": {
            "text/plain": [
              "<IPython.core.display.HTML object>"
            ],
            "text/html": [
              "<img src =\"https://steamuserimages-a.akamaihd.net/ugc/958603887331757558/D1E9FAB08630AFD6CB06EE7B719338B00BCEACBC/?imw=512&imh=219&ima=fit&impolicy=Letterbox&imcolor=%23000000&letterbox=true\" width = \"400\">"
            ]
          },
          "metadata": {},
          "execution_count": 14
        }
      ]
    },
    {
      "cell_type": "code",
      "source": [],
      "metadata": {
        "id": "6tn1VQtO3uR8"
      },
      "execution_count": null,
      "outputs": []
    }
  ]
}